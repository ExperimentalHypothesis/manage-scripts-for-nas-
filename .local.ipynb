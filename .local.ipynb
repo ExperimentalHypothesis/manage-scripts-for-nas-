{
 "cells": [
  {
   "metadata": {},
   "cell_type": "code",
   "outputs": [],
   "execution_count": null,
   "source": "",
   "id": "a0f4dd262d2ebf8b"
  },
  {
   "metadata": {
    "ExecuteTime": {
     "end_time": "2024-10-05T19:48:56.044479Z",
     "start_time": "2024-10-05T19:48:56.041606Z"
    }
   },
   "cell_type": "code",
   "source": "ROOT_PATH = \"/Users/lukas.kotatko/TESTING FILESYSTEM\"",
   "id": "26d14d8d75461c5",
   "outputs": [],
   "execution_count": 12
  },
  {
   "cell_type": "code",
   "id": "initial_id",
   "metadata": {
    "collapsed": true,
    "ExecuteTime": {
     "end_time": "2024-10-05T20:22:40.432074Z",
     "start_time": "2024-10-05T20:22:40.420040Z"
    }
   },
   "source": [
    "import os\n",
    "import logging\n",
    "from os.path import join, dirname\n",
    "\n",
    "logger = logging.getLogger(__name__)\n",
    "\n",
    "def is_folder_empty(folder_path: str):\n",
    "    \"\"\" Check if folder is empty\"\"\"\n",
    "    return not os.listdir(folder_path)\n",
    "\n",
    "\n",
    "def list_all_empty_folders(root_path: str):\n",
    "    \"\"\" Recursively find all empty folders from top do bottom. \"\"\"\n",
    "    empty = []    \n",
    "    for path in os.listdir(root_path):\n",
    "        full_path = join(root_path, path)\n",
    "        if os.path.isfile(full_path):\n",
    "            continue\n",
    "            \n",
    "        if is_folder_empty(full_path):\n",
    "            full_path = join(root_path, path)\n",
    "            empty.append(full_path)\n",
    "        else:\n",
    "            empty.extend(list_all_empty_folders(full_path))\n",
    "    return empty\n",
    "\n",
    "def delete_folder(folder_path: str):\n",
    "    \"\"\" Delete folder on given path. \"\"\"\n",
    "    try:\n",
    "        os.rmdir(folder_path)\n",
    "        logger.warning(f\"Deleted folder on path {folder_path}\")\n",
    "    except Exception as e:\n",
    "        logger.exception(\"Could not delete folder on path %s due to err %s\", folder_path, e)\n",
    "        \n",
    "        \n",
    "def delete_all_empty_folders(root_path: str):\n",
    "    \"\"\" Recursively delete all empty folders from bottom to up. \"\"\"\n",
    "    empty_folders = list_all_empty_folders(root_path)\n",
    "    for empty_folder in empty_folders:\n",
    "        delete_folder(empty_folder)\n",
    "        \n",
    "        parent_folder = dirname(empty_folder)\n",
    "        \n",
    "        while parent_folder and parent_folder != root_path:\n",
    "            if is_folder_empty(parent_folder):\n",
    "                delete_folder(parent_folder)\n",
    "                parent_folder = delete_folder(parent_folder)\n",
    "            else:\n",
    "                break\n",
    "                            "
   ],
   "outputs": [],
   "execution_count": 39
  },
  {
   "metadata": {
    "ExecuteTime": {
     "end_time": "2024-10-05T20:22:40.566944Z",
     "start_time": "2024-10-05T20:22:40.564417Z"
    }
   },
   "cell_type": "code",
   "source": "is_folder_empty(ROOT_PATH)",
   "id": "e3cd799bb1f0195a",
   "outputs": [
    {
     "data": {
      "text/plain": [
       "False"
      ]
     },
     "execution_count": 40,
     "metadata": {},
     "output_type": "execute_result"
    }
   ],
   "execution_count": 40
  },
  {
   "metadata": {
    "ExecuteTime": {
     "end_time": "2024-10-05T20:22:40.724909Z",
     "start_time": "2024-10-05T20:22:40.722210Z"
    }
   },
   "cell_type": "code",
   "source": "delete_folder(join(ROOT_PATH, \"A\"))",
   "id": "7a207826c5d21ae8",
   "outputs": [
    {
     "name": "stderr",
     "output_type": "stream",
     "text": [
      "Could not delete folder on path /Users/lukas.kotatko/TESTING FILESYSTEM/A due to err [Errno 2] No such file or directory: '/Users/lukas.kotatko/TESTING FILESYSTEM/A'\n",
      "Traceback (most recent call last):\n",
      "  File \"/var/folders/jp/2sxxv24x5gz3rpmlqp2mv_mc0000gp/T/ipykernel_74892/2895417481.py\", line 30, in delete_folder\n",
      "    os.rmdir(folder_path)\n",
      "FileNotFoundError: [Errno 2] No such file or directory: '/Users/lukas.kotatko/TESTING FILESYSTEM/A'\n"
     ]
    }
   ],
   "execution_count": 41
  },
  {
   "metadata": {
    "ExecuteTime": {
     "end_time": "2024-10-05T20:22:41.216323Z",
     "start_time": "2024-10-05T20:22:41.213507Z"
    }
   },
   "cell_type": "code",
   "source": "list_all_empty_folders(ROOT_PATH)\n",
   "id": "5697f5371f9d967b",
   "outputs": [
    {
     "data": {
      "text/plain": [
       "['/Users/lukas.kotatko/TESTING FILESYSTEM/B']"
      ]
     },
     "execution_count": 42,
     "metadata": {},
     "output_type": "execute_result"
    }
   ],
   "execution_count": 42
  },
  {
   "metadata": {
    "ExecuteTime": {
     "end_time": "2024-10-05T20:22:45.607389Z",
     "start_time": "2024-10-05T20:22:45.595870Z"
    }
   },
   "cell_type": "code",
   "source": "delete_all_empty_folders(ROOT_PATH)",
   "id": "e24a442b3f021e4f",
   "outputs": [
    {
     "name": "stderr",
     "output_type": "stream",
     "text": [
      "Deleted folder on path /Users/lukas.kotatko/TESTING FILESYSTEM/B\n"
     ]
    }
   ],
   "execution_count": 43
  },
  {
   "metadata": {},
   "cell_type": "code",
   "outputs": [],
   "execution_count": null,
   "source": "",
   "id": "3e38c282fe36745e"
  }
 ],
 "metadata": {
  "kernelspec": {
   "display_name": "Python 3",
   "language": "python",
   "name": "python3"
  },
  "language_info": {
   "codemirror_mode": {
    "name": "ipython",
    "version": 2
   },
   "file_extension": ".py",
   "mimetype": "text/x-python",
   "name": "python",
   "nbconvert_exporter": "python",
   "pygments_lexer": "ipython2",
   "version": "2.7.6"
  }
 },
 "nbformat": 4,
 "nbformat_minor": 5
}
