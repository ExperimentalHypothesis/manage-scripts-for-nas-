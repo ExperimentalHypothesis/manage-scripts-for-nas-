{
 "cells": [
  {
   "metadata": {
    "ExecuteTime": {
     "end_time": "2024-10-05T14:00:15.399723Z",
     "start_time": "2024-10-05T14:00:15.392591Z"
    }
   },
   "cell_type": "code",
   "source": "ROOT_DIR = \"Music TEST\"",
   "id": "130e36fbd5538e00",
   "outputs": [],
   "execution_count": 237
  },
  {
   "metadata": {
    "ExecuteTime": {
     "end_time": "2024-10-05T15:26:56.328674Z",
     "start_time": "2024-10-05T15:25:56.278136Z"
    }
   },
   "cell_type": "code",
   "source": [
    "from dotenv import load_dotenv\n",
    "load_dotenv()\n",
    "import os\n",
    "\n",
    "def connect_to_nas(username: str, password: str, nas_ip: str):\n",
    "    conn = SMBConnection(username, password, \"local_machine\", \"nas_device\", use_ntlm_v2=True)\n",
    "    conn.connect(nas_ip)\n",
    "    print(\"Connected\")\n",
    "    return conn\n",
    "\n",
    "conn = connect_to_nas(os.getenv(\"USER\"), os.getenv(\"PWD\"), os.getenv(\"IP\"))"
   ],
   "id": "1db215625ee3f749",
   "outputs": [
    {
     "ename": "TimeoutError",
     "evalue": "timed out",
     "output_type": "error",
     "traceback": [
      "\u001B[0;31m---------------------------------------------------------------------------\u001B[0m",
      "\u001B[0;31mTimeoutError\u001B[0m                              Traceback (most recent call last)",
      "Cell \u001B[0;32mIn[240], line 11\u001B[0m\n\u001B[1;32m      8\u001B[0m     \u001B[38;5;28mprint\u001B[39m(\u001B[38;5;124m\"\u001B[39m\u001B[38;5;124mConnected\u001B[39m\u001B[38;5;124m\"\u001B[39m)\n\u001B[1;32m      9\u001B[0m     \u001B[38;5;28;01mreturn\u001B[39;00m conn\n\u001B[0;32m---> 11\u001B[0m conn \u001B[38;5;241m=\u001B[39m \u001B[43mconnect_to_nas\u001B[49m\u001B[43m(\u001B[49m\u001B[43mos\u001B[49m\u001B[38;5;241;43m.\u001B[39;49m\u001B[43mgetenv\u001B[49m\u001B[43m(\u001B[49m\u001B[38;5;124;43m\"\u001B[39;49m\u001B[38;5;124;43mUSER\u001B[39;49m\u001B[38;5;124;43m\"\u001B[39;49m\u001B[43m)\u001B[49m\u001B[43m,\u001B[49m\u001B[43m \u001B[49m\u001B[43mos\u001B[49m\u001B[38;5;241;43m.\u001B[39;49m\u001B[43mgetenv\u001B[49m\u001B[43m(\u001B[49m\u001B[38;5;124;43m\"\u001B[39;49m\u001B[38;5;124;43mPWD\u001B[39;49m\u001B[38;5;124;43m\"\u001B[39;49m\u001B[43m)\u001B[49m\u001B[43m,\u001B[49m\u001B[43m \u001B[49m\u001B[43mos\u001B[49m\u001B[38;5;241;43m.\u001B[39;49m\u001B[43mgetenv\u001B[49m\u001B[43m(\u001B[49m\u001B[38;5;124;43m\"\u001B[39;49m\u001B[38;5;124;43mIP\u001B[39;49m\u001B[38;5;124;43m\"\u001B[39;49m\u001B[43m)\u001B[49m\u001B[43m)\u001B[49m\n",
      "Cell \u001B[0;32mIn[240], line 7\u001B[0m, in \u001B[0;36mconnect_to_nas\u001B[0;34m(username, password, nas_ip)\u001B[0m\n\u001B[1;32m      5\u001B[0m \u001B[38;5;28;01mdef\u001B[39;00m \u001B[38;5;21mconnect_to_nas\u001B[39m(username: \u001B[38;5;28mstr\u001B[39m, password: \u001B[38;5;28mstr\u001B[39m, nas_ip: \u001B[38;5;28mstr\u001B[39m):\n\u001B[1;32m      6\u001B[0m     conn \u001B[38;5;241m=\u001B[39m SMBConnection(username, password, \u001B[38;5;124m\"\u001B[39m\u001B[38;5;124mlocal_machine\u001B[39m\u001B[38;5;124m\"\u001B[39m, \u001B[38;5;124m\"\u001B[39m\u001B[38;5;124mnas_device\u001B[39m\u001B[38;5;124m\"\u001B[39m, use_ntlm_v2\u001B[38;5;241m=\u001B[39m\u001B[38;5;28;01mTrue\u001B[39;00m)\n\u001B[0;32m----> 7\u001B[0m     \u001B[43mconn\u001B[49m\u001B[38;5;241;43m.\u001B[39;49m\u001B[43mconnect\u001B[49m\u001B[43m(\u001B[49m\u001B[43mnas_ip\u001B[49m\u001B[43m)\u001B[49m\n\u001B[1;32m      8\u001B[0m     \u001B[38;5;28mprint\u001B[39m(\u001B[38;5;124m\"\u001B[39m\u001B[38;5;124mConnected\u001B[39m\u001B[38;5;124m\"\u001B[39m)\n\u001B[1;32m      9\u001B[0m     \u001B[38;5;28;01mreturn\u001B[39;00m conn\n",
      "File \u001B[0;32m~/Code/private/manage-scripts-for-nas/.venv/lib/python3.12/site-packages/smb/SMBConnection.py:120\u001B[0m, in \u001B[0;36mSMBConnection.connect\u001B[0;34m(self, ip, port, sock_family, timeout)\u001B[0m\n\u001B[1;32m    118\u001B[0m     \u001B[38;5;28mself\u001B[39m\u001B[38;5;241m.\u001B[39msock\u001B[38;5;241m.\u001B[39mconnect(( ip, port ))\n\u001B[1;32m    119\u001B[0m \u001B[38;5;28;01melse\u001B[39;00m:\n\u001B[0;32m--> 120\u001B[0m     \u001B[38;5;28mself\u001B[39m\u001B[38;5;241m.\u001B[39msock \u001B[38;5;241m=\u001B[39m \u001B[43msocket\u001B[49m\u001B[38;5;241;43m.\u001B[39;49m\u001B[43mcreate_connection\u001B[49m\u001B[43m(\u001B[49m\u001B[43m(\u001B[49m\u001B[43m \u001B[49m\u001B[43mip\u001B[49m\u001B[43m,\u001B[49m\u001B[43m \u001B[49m\u001B[43mport\u001B[49m\u001B[43m \u001B[49m\u001B[43m)\u001B[49m\u001B[43m,\u001B[49m\u001B[43m \u001B[49m\u001B[43mtimeout\u001B[49m\u001B[43m \u001B[49m\u001B[38;5;241;43m=\u001B[39;49m\u001B[43m \u001B[49m\u001B[43mtimeout\u001B[49m\u001B[43m)\u001B[49m\n\u001B[1;32m    122\u001B[0m \u001B[38;5;28mself\u001B[39m\u001B[38;5;241m.\u001B[39mis_busy \u001B[38;5;241m=\u001B[39m \u001B[38;5;28;01mTrue\u001B[39;00m\n\u001B[1;32m    123\u001B[0m \u001B[38;5;28;01mtry\u001B[39;00m:\n",
      "File \u001B[0;32m~/.pyenv/versions/3.12.4/lib/python3.12/socket.py:853\u001B[0m, in \u001B[0;36mcreate_connection\u001B[0;34m(address, timeout, source_address, all_errors)\u001B[0m\n\u001B[1;32m    851\u001B[0m \u001B[38;5;28;01mtry\u001B[39;00m:\n\u001B[1;32m    852\u001B[0m     \u001B[38;5;28;01mif\u001B[39;00m \u001B[38;5;129;01mnot\u001B[39;00m all_errors:\n\u001B[0;32m--> 853\u001B[0m         \u001B[38;5;28;01mraise\u001B[39;00m exceptions[\u001B[38;5;241m0\u001B[39m]\n\u001B[1;32m    854\u001B[0m     \u001B[38;5;28;01mraise\u001B[39;00m ExceptionGroup(\u001B[38;5;124m\"\u001B[39m\u001B[38;5;124mcreate_connection failed\u001B[39m\u001B[38;5;124m\"\u001B[39m, exceptions)\n\u001B[1;32m    855\u001B[0m \u001B[38;5;28;01mfinally\u001B[39;00m:\n\u001B[1;32m    856\u001B[0m     \u001B[38;5;66;03m# Break explicitly a reference cycle\u001B[39;00m\n",
      "File \u001B[0;32m~/.pyenv/versions/3.12.4/lib/python3.12/socket.py:838\u001B[0m, in \u001B[0;36mcreate_connection\u001B[0;34m(address, timeout, source_address, all_errors)\u001B[0m\n\u001B[1;32m    836\u001B[0m \u001B[38;5;28;01mif\u001B[39;00m source_address:\n\u001B[1;32m    837\u001B[0m     sock\u001B[38;5;241m.\u001B[39mbind(source_address)\n\u001B[0;32m--> 838\u001B[0m \u001B[43msock\u001B[49m\u001B[38;5;241;43m.\u001B[39;49m\u001B[43mconnect\u001B[49m\u001B[43m(\u001B[49m\u001B[43msa\u001B[49m\u001B[43m)\u001B[49m\n\u001B[1;32m    839\u001B[0m \u001B[38;5;66;03m# Break explicitly a reference cycle\u001B[39;00m\n\u001B[1;32m    840\u001B[0m exceptions\u001B[38;5;241m.\u001B[39mclear()\n",
      "\u001B[0;31mTimeoutError\u001B[0m: timed out"
     ]
    }
   ],
   "execution_count": 240
  },
  {
   "metadata": {
    "ExecuteTime": {
     "end_time": "2024-10-05T12:42:39.257260Z",
     "start_time": "2024-10-05T12:42:39.250542Z"
    }
   },
   "cell_type": "code",
   "source": [
    "from os.path import join, dirname\n",
    "from smb.SMBConnection import SMBConnection\n",
    "import logging\n",
    "\n",
    "logger = logging.getLogger(\"x\")\n",
    "console_handler = logging.StreamHandler()\n",
    "console_handler.setLevel(logging.INFO)\n",
    "console_handler.setFormatter(logging.Formatter('%(asctime)s - %(name)s - %(levelname)s - %(message)s'))\n",
    "logger.addHandler(console_handler)\n",
    "\n",
    "def move_dir(conn: SMBConnection, source: str, destination: str):\n",
    "    try:\n",
    "        conn.rename(\"Public\", source, destination)\n",
    "        print(f\"Moved '{source}' to '{destination}'.\")\n",
    "    except Exception as e:\n",
    "        print(f\"Error moving folder: {e}\")\n",
    "\n",
    "def rename_dir(conn: SMBConnection, current_name: str, new_name: str):\n",
    "    try:\n",
    "        conn.rename(\"Public\", current_name, new_name)\n",
    "        print(f\"Renamed '{current_name}' to '{new_name}'.\")\n",
    "    except Exception as e:\n",
    "        print(f\"Error renaming folder: {e}\")\n",
    "        \n",
    "def delete_dir(conn: SMBConnection, folder_path: str):\n",
    "    try:\n",
    "        conn.deleteDirectory(\"Public\", folder_path)\n",
    "        print(f\"Deleted '{folder_path}'.\")\n",
    "    except Exception as e:\n",
    "        print(f\"Error deleting folder: {e}\")\n",
    "        \n",
    "def is_dir_empty(conn: SMBConnection, path: str):\n",
    "    return all(entry.filename in (\".\", \"..\") for entry in conn.listPath(\"Public\", path))\n",
    "\n",
    "def delete_empty_dir(conn: SMBConnection, path: str):\n",
    "    if is_dir_empty(conn, path):\n",
    "        delete_dir(conn, path)\n",
    "    \n",
    "def list_empty_dirs_recursively(conn, root_dir) -> list[str]:\n",
    "    empty_dirs = []\n",
    "\n",
    "    for path in conn.listPath(\"Public\", root_dir):\n",
    "        if not path.isDirectory or path.filename in (\".\", \"..\"):\n",
    "            continue\n",
    "        \n",
    "        current_dir = join(root_dir, path.filename)\n",
    "        \n",
    "        if is_dir_empty(conn, current_dir):\n",
    "            empty_dirs.append(current_dir)\n",
    "        else:\n",
    "            empty_dirs.extend(list_empty_dirs_recursively(conn, current_dir))\n",
    "    \n",
    "    return empty_dirs"
   ],
   "id": "initial_id",
   "outputs": [],
   "execution_count": 227
  },
  {
   "metadata": {
    "ExecuteTime": {
     "end_time": "2024-10-05T13:57:19.650171Z",
     "start_time": "2024-10-05T13:57:19.644912Z"
    }
   },
   "cell_type": "code",
   "source": [
    "def delete_all_empty_dirs_recursively(conn, root_dir):\n",
    "    empty_dirs = list_empty_dirs_recursively(conn, root_dir)\n",
    "    empty_dirs.sort(key=lambda x: x.count(\"/\"), reverse=True)\n",
    "    \n",
    "    for dir_path in empty_dirs:\n",
    "        delete_dir(conn, dir_path)\n",
    "        parent_dir = dirname(dir_path)\n",
    "        while parent_dir != root_dir:\n",
    "            delete_empty_dir(conn, dir_path)\n",
    "            parent_dir = dirname(parent_dir)"
   ],
   "id": "72921c89fa83e742",
   "outputs": [],
   "execution_count": 235
  },
  {
   "metadata": {
    "ExecuteTime": {
     "end_time": "2024-10-05T13:57:50.324641Z",
     "start_time": "2024-10-05T13:57:20.284512Z"
    }
   },
   "cell_type": "code",
   "source": "delete_all_empty_dirs_recursively(conn, ROOT_DIR)",
   "id": "9e107e1d5f5c2039",
   "outputs": [
    {
     "ename": "SMBTimeout",
     "evalue": "",
     "output_type": "error",
     "traceback": [
      "\u001B[0;31m---------------------------------------------------------------------------\u001B[0m",
      "\u001B[0;31mSMBTimeout\u001B[0m                                Traceback (most recent call last)",
      "Cell \u001B[0;32mIn[236], line 1\u001B[0m\n\u001B[0;32m----> 1\u001B[0m \u001B[43mdelete_all_empty_dirs_recursively\u001B[49m\u001B[43m(\u001B[49m\u001B[43mcon\u001B[49m\u001B[43m,\u001B[49m\u001B[43m \u001B[49m\u001B[43mROOT_DIR\u001B[49m\u001B[43m)\u001B[49m\n",
      "Cell \u001B[0;32mIn[235], line 2\u001B[0m, in \u001B[0;36mdelete_all_empty_dirs_recursively\u001B[0;34m(conn, root_dir)\u001B[0m\n\u001B[1;32m      1\u001B[0m \u001B[38;5;28;01mdef\u001B[39;00m \u001B[38;5;21mdelete_all_empty_dirs_recursively\u001B[39m(conn, root_dir):\n\u001B[0;32m----> 2\u001B[0m     empty_dirs \u001B[38;5;241m=\u001B[39m \u001B[43mlist_empty_dirs_recursively\u001B[49m\u001B[43m(\u001B[49m\u001B[43mconn\u001B[49m\u001B[43m,\u001B[49m\u001B[43m \u001B[49m\u001B[43mroot_dir\u001B[49m\u001B[43m)\u001B[49m\n\u001B[1;32m      3\u001B[0m     empty_dirs\u001B[38;5;241m.\u001B[39msort(key\u001B[38;5;241m=\u001B[39m\u001B[38;5;28;01mlambda\u001B[39;00m x: x\u001B[38;5;241m.\u001B[39mcount(\u001B[38;5;124m\"\u001B[39m\u001B[38;5;124m/\u001B[39m\u001B[38;5;124m\"\u001B[39m), reverse\u001B[38;5;241m=\u001B[39m\u001B[38;5;28;01mTrue\u001B[39;00m)\n\u001B[1;32m      5\u001B[0m     \u001B[38;5;28;01mfor\u001B[39;00m dir_path \u001B[38;5;129;01min\u001B[39;00m empty_dirs:\n",
      "Cell \u001B[0;32mIn[227], line 42\u001B[0m, in \u001B[0;36mlist_empty_dirs_recursively\u001B[0;34m(conn, root_dir)\u001B[0m\n\u001B[1;32m     39\u001B[0m \u001B[38;5;28;01mdef\u001B[39;00m \u001B[38;5;21mlist_empty_dirs_recursively\u001B[39m(conn, root_dir) \u001B[38;5;241m-\u001B[39m\u001B[38;5;241m>\u001B[39m \u001B[38;5;28mlist\u001B[39m[\u001B[38;5;28mstr\u001B[39m]:\n\u001B[1;32m     40\u001B[0m     empty_dirs \u001B[38;5;241m=\u001B[39m []\n\u001B[0;32m---> 42\u001B[0m     \u001B[38;5;28;01mfor\u001B[39;00m path \u001B[38;5;129;01min\u001B[39;00m \u001B[43mconn\u001B[49m\u001B[38;5;241;43m.\u001B[39;49m\u001B[43mlistPath\u001B[49m\u001B[43m(\u001B[49m\u001B[38;5;124;43m\"\u001B[39;49m\u001B[38;5;124;43mPublic\u001B[39;49m\u001B[38;5;124;43m\"\u001B[39;49m\u001B[43m,\u001B[49m\u001B[43m \u001B[49m\u001B[43mroot_dir\u001B[49m\u001B[43m)\u001B[49m:\n\u001B[1;32m     43\u001B[0m         \u001B[38;5;28;01mif\u001B[39;00m \u001B[38;5;129;01mnot\u001B[39;00m path\u001B[38;5;241m.\u001B[39misDirectory \u001B[38;5;129;01mor\u001B[39;00m path\u001B[38;5;241m.\u001B[39mfilename \u001B[38;5;129;01min\u001B[39;00m (\u001B[38;5;124m\"\u001B[39m\u001B[38;5;124m.\u001B[39m\u001B[38;5;124m\"\u001B[39m, \u001B[38;5;124m\"\u001B[39m\u001B[38;5;124m..\u001B[39m\u001B[38;5;124m\"\u001B[39m):\n\u001B[1;32m     44\u001B[0m             \u001B[38;5;28;01mcontinue\u001B[39;00m\n",
      "File \u001B[0;32m~/Code/private/manage-scripts-for-nas/.venv/lib/python3.12/site-packages/smb/SMBConnection.py:210\u001B[0m, in \u001B[0;36mSMBConnection.listPath\u001B[0;34m(self, service_name, path, search, pattern, timeout)\u001B[0m\n\u001B[1;32m    208\u001B[0m     \u001B[38;5;28mself\u001B[39m\u001B[38;5;241m.\u001B[39m_listPath(service_name, path, cb, eb, search \u001B[38;5;241m=\u001B[39m search, pattern \u001B[38;5;241m=\u001B[39m pattern, timeout \u001B[38;5;241m=\u001B[39m timeout)\n\u001B[1;32m    209\u001B[0m     \u001B[38;5;28;01mwhile\u001B[39;00m \u001B[38;5;28mself\u001B[39m\u001B[38;5;241m.\u001B[39mis_busy:\n\u001B[0;32m--> 210\u001B[0m         \u001B[38;5;28;43mself\u001B[39;49m\u001B[38;5;241;43m.\u001B[39;49m\u001B[43m_pollForNetBIOSPacket\u001B[49m\u001B[43m(\u001B[49m\u001B[43mtimeout\u001B[49m\u001B[43m)\u001B[49m\n\u001B[1;32m    211\u001B[0m \u001B[38;5;28;01mfinally\u001B[39;00m:\n\u001B[1;32m    212\u001B[0m     \u001B[38;5;28mself\u001B[39m\u001B[38;5;241m.\u001B[39mis_busy \u001B[38;5;241m=\u001B[39m \u001B[38;5;28;01mFalse\u001B[39;00m\n",
      "File \u001B[0;32m~/Code/private/manage-scripts-for-nas/.venv/lib/python3.12/site-packages/smb/SMBConnection.py:607\u001B[0m, in \u001B[0;36mSMBConnection._pollForNetBIOSPacket\u001B[0;34m(self, timeout)\u001B[0m\n\u001B[1;32m    605\u001B[0m ready, _, _ \u001B[38;5;241m=\u001B[39m select\u001B[38;5;241m.\u001B[39mselect([ \u001B[38;5;28mself\u001B[39m\u001B[38;5;241m.\u001B[39msock\u001B[38;5;241m.\u001B[39mfileno() ], [ ], [ ], timeout)\n\u001B[1;32m    606\u001B[0m \u001B[38;5;28;01mif\u001B[39;00m \u001B[38;5;129;01mnot\u001B[39;00m ready:\n\u001B[0;32m--> 607\u001B[0m     \u001B[38;5;28;01mraise\u001B[39;00m SMBTimeout\n\u001B[1;32m    609\u001B[0m d \u001B[38;5;241m=\u001B[39m \u001B[38;5;28mself\u001B[39m\u001B[38;5;241m.\u001B[39msock\u001B[38;5;241m.\u001B[39mrecv(read_len)\n\u001B[1;32m    610\u001B[0m \u001B[38;5;28;01mif\u001B[39;00m \u001B[38;5;28mlen\u001B[39m(d) \u001B[38;5;241m==\u001B[39m \u001B[38;5;241m0\u001B[39m:\n",
      "\u001B[0;31mSMBTimeout\u001B[0m: "
     ]
    }
   ],
   "execution_count": 236
  },
  {
   "metadata": {},
   "cell_type": "code",
   "outputs": [],
   "execution_count": null,
   "source": "",
   "id": "6b31f6c6ae582f96"
  },
  {
   "metadata": {},
   "cell_type": "code",
   "outputs": [],
   "execution_count": null,
   "source": [
    "import os\n",
    "\n",
    "ROOT_DIR = \"/shares/Public/Music TEST\"\n",
    "\n",
    "def main():\n",
    "    for i in os.listdir(ROOT_DIR):\n",
    "        print(i)\n",
    "\n",
    "\n",
    "\n",
    "\n",
    "if __name__ == \"__main__\":\n",
    "    main()\n"
   ],
   "id": "e6ee9a35aba673e8"
  }
 ],
 "metadata": {
  "kernelspec": {
   "display_name": "Python 3",
   "language": "python",
   "name": "python3"
  },
  "language_info": {
   "codemirror_mode": {
    "name": "ipython",
    "version": 2
   },
   "file_extension": ".py",
   "mimetype": "text/x-python",
   "name": "python",
   "nbconvert_exporter": "python",
   "pygments_lexer": "ipython2",
   "version": "2.7.6"
  }
 },
 "nbformat": 4,
 "nbformat_minor": 5
}
